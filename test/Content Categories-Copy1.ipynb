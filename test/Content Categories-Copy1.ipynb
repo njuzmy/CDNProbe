{
 "cells": [
  {
   "cell_type": "code",
   "execution_count": 1,
   "id": "4e93c07c-fbed-498b-a1a0-485f18a2c989",
   "metadata": {},
   "outputs": [],
   "source": [
    "import nest_asyncio\n",
    "import vt\n",
    "nest_asyncio.apply()\n",
    "client = vt.Client(\"c2b44a41ed31d826e86686aa64fb2487d742391665319521338eae4f40b82746\")"
   ]
  },
  {
   "cell_type": "code",
   "execution_count": 4,
   "id": "148be33b-f8f9-44f6-87fa-fc3900bbe614",
   "metadata": {},
   "outputs": [],
   "source": [
    "import time"
   ]
  },
  {
   "cell_type": "code",
   "execution_count": 2,
   "id": "ca33413d-81f8-4f65-b60d-9e3652b6f2b5",
   "metadata": {},
   "outputs": [],
   "source": [
    "def get_category(domain):\n",
    "    url_id = vt.url_id(domain)\n",
    "    url = client.get_object(f\"/urls/{url_id}\")\n",
    "    try:\n",
    "        type = url.categories['Forcepoint ThreatSeeker']\n",
    "        print(domain, type)\n",
    "    except:\n",
    "        type = None\n",
    "    time.sleep(15)\n",
    "    return type"
   ]
  },
  {
   "cell_type": "code",
   "execution_count": 6,
   "id": "ef0cb439-5f68-497a-8764-857c9c2c1b3c",
   "metadata": {},
   "outputs": [
    {
     "name": "stdout",
     "output_type": "stream",
     "text": [
      "4399.com games\n"
     ]
    },
    {
     "data": {
      "text/plain": [
       "'games'"
      ]
     },
     "execution_count": 6,
     "metadata": {},
     "output_type": "execute_result"
    }
   ],
   "source": [
    "get_category(\"4399.com\")"
   ]
  }
 ],
 "metadata": {
  "kernelspec": {
   "display_name": "mzhou-python3",
   "language": "python",
   "name": "mzhou-python3"
  },
  "language_info": {
   "codemirror_mode": {
    "name": "ipython",
    "version": 3
   },
   "file_extension": ".py",
   "mimetype": "text/x-python",
   "name": "python",
   "nbconvert_exporter": "python",
   "pygments_lexer": "ipython3",
   "version": "3.11.5"
  }
 },
 "nbformat": 4,
 "nbformat_minor": 5
}
