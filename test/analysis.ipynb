{
 "cells": [
  {
   "cell_type": "code",
   "execution_count": 2,
   "metadata": {},
   "outputs": [],
   "source": [
    "import pandas as pd"
   ]
  },
  {
   "cell_type": "code",
   "execution_count": 3,
   "metadata": {},
   "outputs": [],
   "source": [
    "wwwpd = pd.read_json(\"data/ans_w_www.json\",orient=\"columns\").T"
   ]
  },
  {
   "cell_type": "code",
   "execution_count": 4,
   "metadata": {},
   "outputs": [
    {
     "data": {
      "text/plain": [
       "cdn\n",
       "0    4904\n",
       "1    4435\n",
       "2     558\n",
       "3     101\n",
       "4       2\n",
       "Name: count, dtype: int64"
      ]
     },
     "execution_count": 4,
     "metadata": {},
     "output_type": "execute_result"
    }
   ],
   "source": [
    "wwwpd['cdn'].str.len().value_counts()"
   ]
  },
  {
   "cell_type": "code",
   "execution_count": 5,
   "metadata": {},
   "outputs": [
    {
     "data": {
      "text/plain": [
       "cdn\n",
       "[facebook, cloudflare]               96\n",
       "[google, facebook]                   74\n",
       "[cloudflare, facebook]               65\n",
       "[cloudfront, cloudflare]             29\n",
       "[facebook, google]                   27\n",
       "                                     ..\n",
       "[cloudflare, akamai]                  1\n",
       "[cloudflare, fastly, facebook]        1\n",
       "[cloudflare, facebook, microsoft]     1\n",
       "[facebook, cloudfront, akamai]        1\n",
       "[imperva, edgecast, akamai]           1\n",
       "Name: count, Length: 90, dtype: int64"
      ]
     },
     "execution_count": 5,
     "metadata": {},
     "output_type": "execute_result"
    }
   ],
   "source": [
    "wwwpd[wwwpd['cdn'].str.len()>1]['cdn'].value_counts()"
   ]
  },
  {
   "cell_type": "code",
   "execution_count": 9,
   "metadata": {},
   "outputs": [],
   "source": [
    "pd.DataFrame(wwwpd[wwwpd['cdn'].str.len()>1].index).to_csv(\"multicdn.csv\")"
   ]
  },
  {
   "cell_type": "code",
   "execution_count": null,
   "metadata": {},
   "outputs": [],
   "source": []
  },
  {
   "cell_type": "code",
   "execution_count": 22,
   "metadata": {},
   "outputs": [
    {
     "data": {
      "text/plain": [
       "['  server: cloudflare\\r\\n  CF-Cache-Status: DYNAMIC\\r\\nReport-To  cf-ray: 80909ac5880ee6c2-HKG\\r\\n\\r\\nHTTP/1.1 200 OK\\r\\nDate',\n",
       " '  Server: cloudflare\\r\\n  CF-Cache-Status: DYNAMIC\\r\\nReport-To  CF-RAY: 80909ac88a10044a-HKG\\r\\nalt-svc',\n",
       " '  Server: cloudflare\\r\\n  CF-Cache-Status: DYNAMIC\\r\\nReport-To  CF-RAY: 80909ac8bd9d1077-HKG\\r\\nalt-svc  x-served-by: cache-hkg17926-HKG\\r\\naccept-ranges',\n",
       " '  Server: cloudflare\\r\\n  CF-Cache-Status: DYNAMIC\\r\\nReport-To  CF-RAY: 80909ac9e9f0b46d-HKG\\r\\nalt-svc  x-fb-debug: 2M3U/ABo8Q9CqE9eU505e9qa0jRO50RS5NwK83UzwFFgjhAatxRAvhrmpw6cFyp8yvY09WkTfly06/Xx0m/Scg==\\r\\ndate',\n",
       " '  Server: cloudflare\\r\\n  CF-Cache-Status: DYNAMIC\\r\\nReport-To  CF-RAY: 80909aca4aca8b3f-HKG\\r\\nalt-svc',\n",
       " '  Server: cloudflare\\r\\n  CF-Cache-Status: DYNAMIC\\r\\nReport-To  CF-RAY: 80909acb884e0495-HKG\\r\\nalt-svc',\n",
       " '  Server: cloudflare\\r\\n  CF-Cache-Status: DYNAMIC\\r\\nReport-To  CF-RAY: 80909acc0e5b1082-HKG\\r\\nalt-svc',\n",
       " '  Server: cloudflare\\r\\n  CF-Cache-Status: DYNAMIC\\r\\nReport-To  CF-RAY: 80909acc4ae804cc-HKG\\r\\nalt-svc',\n",
       " '  Server: cloudflare\\r\\n  CF-Cache-Status: DYNAMIC\\r\\nReport-To  CF-RAY: 80909acfbf721fb2-HKG\\r\\nalt-svc',\n",
       " '  Server: cloudflare\\r\\n  CF-Cache-Status: DYNAMIC\\r\\nReport-To  CF-RAY: 80909acfef2010a3-HKG\\r\\nalt-svc',\n",
       " '  Server: cloudflare\\r\\n  CF-Cache-Status: DYNAMIC\\r\\nReport-To  CF-RAY: 80909ad1de3120e7-HKG\\r\\nalt-svc',\n",
       " '  Server: cloudflare\\r\\n  CF-Cache-Status: DYNAMIC\\r\\nReport-To  CF-RAY: 80909ad5fdfb07aa-HKG\\r\\nalt-svc',\n",
       " '  Server: cloudflare\\r\\n  CF-Cache-Status: DYNAMIC\\r\\nReport-To  CF-RAY: 80909ad65d7b2105-HKG\\r\\nalt-svc',\n",
       " '  Server: cloudflare\\r\\n  CF-Cache-Status: DYNAMIC\\r\\nReport-To  CF-RAY: 80909ad759f907b1-HKG\\r\\nalt-svc',\n",
       " '  Server: cloudflare\\r\\n  CF-Cache-Status: DYNAMIC\\r\\nReport-To  CF-RAY: 80909ad7be750468-HKG\\r\\nalt-svc',\n",
       " '  Server: cloudflare\\r\\n  CF-Cache-Status: DYNAMIC\\r\\nReport-To  CF-RAY: 80909ad84d1a10a2-HKG\\r\\nalt-svc',\n",
       " '  Server: cloudflare\\r\\n  CF-Cache-Status: DYNAMIC\\r\\nReport-To  CF-RAY: 80909ad8eaea1066-HKG\\r\\nalt-svc',\n",
       " '  Server: cloudflare\\r\\n  CF-Cache-Status: DYNAMIC\\r\\nReport-To  CF-RAY: 80909ad93d1cb430-HKG\\r\\nalt-svc',\n",
       " '  Server: cloudflare\\r\\n  CF-Cache-Status: DYNAMIC\\r\\nReport-To  CF-RAY: 80909adcee2a0462-HKG\\r\\nalt-svc',\n",
       " '  Server: cloudflare\\r\\n  CF-Cache-Status: DYNAMIC\\r\\nReport-To  CF-RAY: 80909adb6dd504ef-HKG\\r\\nalt-svc',\n",
       " '  Server: cloudflare\\r\\n  CF-Cache-Status: DYNAMIC\\r\\nReport-To  CF-RAY: 80909adc5dcc20e9-HKG\\r\\nalt-svc',\n",
       " '  Server: cloudflare\\r\\n  CF-Cache-Status: DYNAMIC\\r\\nReport-To  CF-RAY: 80909addd88404d4-HKG\\r\\nalt-svc',\n",
       " '  Server: cloudflare\\r\\n  CF-Cache-Status: DYNAMIC\\r\\nReport-To  CF-RAY: 80909ade4fa70f2c-HKG\\r\\nalt-svc']"
      ]
     },
     "execution_count": 22,
     "metadata": {},
     "output_type": "execute_result"
    }
   ],
   "source": [
    "wwwpd[wwwpd['cdn'].str.len()>1].loc[\"www.amaporn.com\"][\"http_header\"]"
   ]
  },
  {
   "cell_type": "code",
   "execution_count": 20,
   "metadata": {},
   "outputs": [],
   "source": [
    "import json\n",
    "import requests"
   ]
  },
  {
   "cell_type": "code",
   "execution_count": 54,
   "metadata": {},
   "outputs": [],
   "source": [
    "def validate(domain, cdn_list):\n",
    "    cdn_ip_dict = json.load(open(\"../resource/cdn_ip.json\", 'r'))\n",
    "    print(cdn_ip_dict)\n",
    "    for cdn in cdn_list:\n",
    "        url = f\"http://{cdn_ip_dict[cdn]}\"\n",
    "        print(url)\n",
    "        headers = {\"Host\": domain}\n",
    "        re = requests.get(url, headers=headers, allow_redirects=False)\n",
    "        print(re.headers)\n",
    "        print(re.status_code)\n",
    "\n",
    "        if re.status_code >= 300 and re1.status_code >= 300:\n",
    "            return False\n",
    "    return True"
   ]
  },
  {
   "cell_type": "code",
   "execution_count": 65,
   "metadata": {},
   "outputs": [],
   "source": [
    "def validate(domain, cdn_list):\n",
    "    cdn_ip_dict = json.load(open(\"../resource/cdn_ip.json\", 'r'))\n",
    "    print(cdn_ip_dict)\n",
    "    for cdn in cdn_list:\n",
    "        http_code1 = subprocess.check_output(f\"curl -m 3 -s -IL {cdn_ip_dict[cdn]} -H 'Host:{domain}' -k -o /dev/null -w %{'{http_code}'}\", shell=True).decode('utf-8', \"ignore\")\n",
    "        print(http_code1)\n",
    "        if int(http_code1[0]) >= 3:\n",
    "            return False\n",
    "    return True"
   ]
  },
  {
   "cell_type": "code",
   "execution_count": 66,
   "metadata": {},
   "outputs": [
    {
     "name": "stdout",
     "output_type": "stream",
     "text": [
      "{'cloudflare': '104.16.123.96', 'akamai': '23.59.208.32', 'fastly': '151.101.193.5', 'imperva': '45.60.73.225', 'edgio': '64.12.0.35', 'alibaba': '47.246.23.243', 'facebook': '157.240.7.8'}\n",
      "200\n",
      "200\n"
     ]
    },
    {
     "data": {
      "text/plain": [
       "True"
      ]
     },
     "execution_count": 66,
     "metadata": {},
     "output_type": "execute_result"
    }
   ],
   "source": [
    "validate(\"www.apple.com\",[\"facebook\",\"cloudflare\"])"
   ]
  },
  {
   "cell_type": "code",
   "execution_count": null,
   "metadata": {},
   "outputs": [],
   "source": []
  }
 ],
 "metadata": {
  "kernelspec": {
   "display_name": "mzhou-python3",
   "language": "python",
   "name": "mzhou-python3"
  },
  "language_info": {
   "codemirror_mode": {
    "name": "ipython",
    "version": 3
   },
   "file_extension": ".py",
   "mimetype": "text/x-python",
   "name": "python",
   "nbconvert_exporter": "python",
   "pygments_lexer": "ipython3",
   "version": "3.11.5"
  },
  "orig_nbformat": 4
 },
 "nbformat": 4,
 "nbformat_minor": 2
}
