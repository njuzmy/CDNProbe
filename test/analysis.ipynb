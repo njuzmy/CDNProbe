{
    "cells": [
     {
      "cell_type": "code",
      "execution_count": 1,
      "metadata": {},
      "outputs": [],
      "source": [
       "import pandas as pd"
      ]
     },
     {
      "cell_type": "code",
      "execution_count": 14,
      "metadata": {},
      "outputs": [],
      "source": [
       "wwwpd = pd.read_json(\"../result/ans_w_www.json\",orient=\"columns\").T"
      ]
     },
     {
      "cell_type": "code",
      "execution_count": 17,
      "metadata": {},
      "outputs": [
       {
        "data": {
         "text/html": [
          "<div>\n",
          "<style scoped>\n",
          "    .dataframe tbody tr th:only-of-type {\n",
          "        vertical-align: middle;\n",
          "    }\n",
          "\n",
          "    .dataframe tbody tr th {\n",
          "        vertical-align: top;\n",
          "    }\n",
          "\n",
          "    .dataframe thead th {\n",
          "        text-align: right;\n",
          "    }\n",
          "</style>\n",
          "<table border=\"1\" class=\"dataframe\">\n",
          "  <thead>\n",
          "    <tr style=\"text-align: right;\">\n",
          "      <th></th>\n",
          "      <th>cname</th>\n",
          "      <th>http_header</th>\n",
          "      <th>tls_cert</th>\n",
          "      <th>rdap_info</th>\n",
          "      <th>cdn</th>\n",
          "    </tr>\n",
          "  </thead>\n",
          "  <tbody>\n",
          "    <tr>\n",
          "      <th>www.google.com</th>\n",
          "      <td>[]</td>\n",
          "      <td>[  server: gws\\r\\n,   server: gws\\r\\n,   serve...</td>\n",
          "      <td>[]</td>\n",
          "      <td>[]</td>\n",
          "      <td>[google, facebook]</td>\n",
          "    </tr>\n",
          "    <tr>\n",
          "      <th>www.facebook.com</th>\n",
          "      <td>[]</td>\n",
          "      <td>[  server: cloudflare\\r\\n  cf-ray: 8086b5182bf...</td>\n",
          "      <td>[]</td>\n",
          "      <td>[]</td>\n",
          "      <td>[cloudflare, facebook]</td>\n",
          "    </tr>\n",
          "    <tr>\n",
          "      <th>www.amazonaws.com</th>\n",
          "      <td>[]</td>\n",
          "      <td>[  X-Amz-Cf-Id: COZDv5UmQKGMrApf3yEPK-lTeaRFHV...</td>\n",
          "      <td>[]</td>\n",
          "      <td>[]</td>\n",
          "      <td>[cloudfront]</td>\n",
          "    </tr>\n",
          "    <tr>\n",
          "      <th>www.microsoft.com</th>\n",
          "      <td>[e13678.ca2.s.tl88.net., e13678.dscb.akamaiedg...</td>\n",
          "      <td>[]</td>\n",
          "      <td>[]</td>\n",
          "      <td>[]</td>\n",
          "      <td>[akamai, chinanetcenter]</td>\n",
          "    </tr>\n",
          "    <tr>\n",
          "      <th>www.a-msedge.net</th>\n",
          "      <td>[]</td>\n",
          "      <td>[]</td>\n",
          "      <td>[]</td>\n",
          "      <td>[]</td>\n",
          "      <td>[]</td>\n",
          "    </tr>\n",
          "    <tr>\n",
          "      <th>...</th>\n",
          "      <td>...</td>\n",
          "      <td>...</td>\n",
          "      <td>...</td>\n",
          "      <td>...</td>\n",
          "      <td>...</td>\n",
          "    </tr>\n",
          "    <tr>\n",
          "      <th>www.vuasex.co</th>\n",
          "      <td>[]</td>\n",
          "      <td>[  Server: cloudflare\\r\\n  cf-cache-status: DY...</td>\n",
          "      <td>[]</td>\n",
          "      <td>[]</td>\n",
          "      <td>[cloudflare]</td>\n",
          "    </tr>\n",
          "    <tr>\n",
          "      <th>www.turfomania.fr</th>\n",
          "      <td>[]</td>\n",
          "      <td>[]</td>\n",
          "      <td>[]</td>\n",
          "      <td>[]</td>\n",
          "      <td>[]</td>\n",
          "    </tr>\n",
          "    <tr>\n",
          "      <th>www.banglachotikahinii.com</th>\n",
          "      <td>[]</td>\n",
          "      <td>[  Server: cloudflare\\r\\n  CF-RAY: 8090c0208df...</td>\n",
          "      <td>[]</td>\n",
          "      <td>[]</td>\n",
          "      <td>[cloudflare]</td>\n",
          "    </tr>\n",
          "    <tr>\n",
          "      <th>www.playsport.cc</th>\n",
          "      <td>[]</td>\n",
          "      <td>[  Server: cloudflare\\r\\n  cf-cache-status: DY...</td>\n",
          "      <td>[]</td>\n",
          "      <td>[]</td>\n",
          "      <td>[cloudflare]</td>\n",
          "    </tr>\n",
          "    <tr>\n",
          "      <th>www.dnsv2.com</th>\n",
          "      <td>[]</td>\n",
          "      <td>[]</td>\n",
          "      <td>[]</td>\n",
          "      <td>[]</td>\n",
          "      <td>[]</td>\n",
          "    </tr>\n",
          "  </tbody>\n",
          "</table>\n",
          "<p>10000 rows × 5 columns</p>\n",
          "</div>"
         ],
         "text/plain": [
          "                                                                        cname  \\\n",
          "www.google.com                                                             []   \n",
          "www.facebook.com                                                           []   \n",
          "www.amazonaws.com                                                          []   \n",
          "www.microsoft.com           [e13678.ca2.s.tl88.net., e13678.dscb.akamaiedg...   \n",
          "www.a-msedge.net                                                           []   \n",
          "...                                                                       ...   \n",
          "www.vuasex.co                                                              []   \n",
          "www.turfomania.fr                                                          []   \n",
          "www.banglachotikahinii.com                                                 []   \n",
          "www.playsport.cc                                                           []   \n",
          "www.dnsv2.com                                                              []   \n",
          "\n",
          "                                                                  http_header  \\\n",
          "www.google.com              [  server: gws\\r\\n,   server: gws\\r\\n,   serve...   \n",
          "www.facebook.com            [  server: cloudflare\\r\\n  cf-ray: 8086b5182bf...   \n",
          "www.amazonaws.com           [  X-Amz-Cf-Id: COZDv5UmQKGMrApf3yEPK-lTeaRFHV...   \n",
          "www.microsoft.com                                                          []   \n",
          "www.a-msedge.net                                                           []   \n",
          "...                                                                       ...   \n",
          "www.vuasex.co               [  Server: cloudflare\\r\\n  cf-cache-status: DY...   \n",
          "www.turfomania.fr                                                          []   \n",
          "www.banglachotikahinii.com  [  Server: cloudflare\\r\\n  CF-RAY: 8090c0208df...   \n",
          "www.playsport.cc            [  Server: cloudflare\\r\\n  cf-cache-status: DY...   \n",
          "www.dnsv2.com                                                              []   \n",
          "\n",
          "                           tls_cert rdap_info                       cdn  \n",
          "www.google.com                   []        []        [google, facebook]  \n",
          "www.facebook.com                 []        []    [cloudflare, facebook]  \n",
          "www.amazonaws.com                []        []              [cloudfront]  \n",
          "www.microsoft.com                []        []  [akamai, chinanetcenter]  \n",
          "www.a-msedge.net                 []        []                        []  \n",
          "...                             ...       ...                       ...  \n",
          "www.vuasex.co                    []        []              [cloudflare]  \n",
          "www.turfomania.fr                []        []                        []  \n",
          "www.banglachotikahinii.com       []        []              [cloudflare]  \n",
          "www.playsport.cc                 []        []              [cloudflare]  \n",
          "www.dnsv2.com                    []        []                        []  \n",
          "\n",
          "[10000 rows x 5 columns]"
         ]
        },
        "execution_count": 17,
        "metadata": {},
        "output_type": "execute_result"
       }
      ],
      "source": [
       "wwwpd"
      ]
     },
     {
      "cell_type": "code",
      "execution_count": 15,
      "metadata": {},
      "outputs": [
       {
        "data": {
         "text/plain": [
          "cdn\n",
          "0    4904\n",
          "1    4435\n",
          "2     558\n",
          "3     101\n",
          "4       2\n",
          "Name: count, dtype: int64"
         ]
        },
        "execution_count": 15,
        "metadata": {},
        "output_type": "execute_result"
       }
      ],
      "source": [
       "wwwpd['cdn'].str.len().value_counts()"
      ]
     },
     {
      "cell_type": "code",
      "execution_count": 26,
      "metadata": {},
      "outputs": [
       {
        "data": {
         "text/plain": [
          "cdn\n",
          "[facebook, cloudflare]      96\n",
          "[google, facebook]          74\n",
          "[cloudflare, facebook]      65\n",
          "[cloudfront, cloudflare]    29\n",
          "[facebook, google]          27\n",
          "[cloudfront, facebook]      27\n",
          "[akamai, chinanetcenter]    20\n",
          "[cloudflare, fastly]        20\n",
          "[fastly, facebook]          19\n",
          "[facebook, fastly]          17\n",
          "Name: count, dtype: int64"
         ]
        },
        "execution_count": 26,
        "metadata": {},
        "output_type": "execute_result"
       }
      ],
      "source": [
       "wwwpd[wwwpd['cdn'].str.len()>1]['cdn'].value_counts().head(10)"
      ]
     },
     {
      "cell_type": "code",
      "execution_count": 31,
      "metadata": {},
      "outputs": [
       {
        "data": {
         "text/plain": [
          "cname          [e13663.x.akamaiedge.net., e13663.x.akamaiedge...\n",
          "http_header                                                   []\n",
          "tls_cert                                                      []\n",
          "rdap_info                                                     []\n",
          "cdn                                                     [akamai]\n",
          "Name: www.uniqlo.com, dtype: object"
         ]
        },
        "execution_count": 31,
        "metadata": {},
        "output_type": "execute_result"
       }
      ],
      "source": [
       "wwwpd.loc[\"www.uniqlo.com\"]"
      ]
     },
     {
      "cell_type": "code",
      "execution_count": 19,
      "metadata": {},
      "outputs": [
       {
        "data": {
         "text/plain": [
          "cname          [e13626.dscca2.s.tl88.net., e13626.dsca.akamai...\n",
          "http_header                                                   []\n",
          "tls_cert                                                      []\n",
          "rdap_info                                                     []\n",
          "cdn                                     [akamai, chinanetcenter]\n",
          "Name: www.ups.com, dtype: object"
         ]
        },
        "execution_count": 19,
        "metadata": {},
        "output_type": "execute_result"
       }
      ],
      "source": [
       "wwwpd.loc[\"www.ups.com\"]"
      ]
     },
     {
      "cell_type": "code",
      "execution_count": 11,
      "metadata": {},
      "outputs": [],
      "source": [
       "wowwwpd = pd.read_json(\"../result/ans.json\",orient=\"columns\").T"
      ]
     },
     {
      "cell_type": "code",
      "execution_count": 12,
      "metadata": {},
      "outputs": [
       {
        "data": {
         "text/plain": [
          "cdn\n",
          "0    5472\n",
          "1    3843\n",
          "2     615\n",
          "3      69\n",
          "4       1\n",
          "Name: count, dtype: int64"
         ]
        },
        "execution_count": 12,
        "metadata": {},
        "output_type": "execute_result"
       }
      ],
      "source": [
       "wowwwpd['cdn'].str.len().value_counts()"
      ]
     },
     {
      "cell_type": "code",
      "execution_count": 13,
      "metadata": {},
      "outputs": [
       {
        "data": {
         "text/plain": [
          "cdn\n",
          "[facebook, cloudflare]            105\n",
          "[cloudflare, facebook]             88\n",
          "[google, facebook]                 75\n",
          "[cloudfront, cloudflare]           67\n",
          "[fastly, cloudflare]               35\n",
          "                                 ... \n",
          "[fastly, cloudfront, facebook]      1\n",
          "[baidu, cloudflare]                 1\n",
          "[cloudflare, limelight, edgio]      1\n",
          "[cloudfront, imperva]               1\n",
          "[cloudflare, microsoft]             1\n",
          "Name: count, Length: 92, dtype: int64"
         ]
        },
        "execution_count": 13,
        "metadata": {},
        "output_type": "execute_result"
       }
      ],
      "source": [
       "wowwwpd[wowwwpd['cdn'].str.len()>1]['cdn'].value_counts()"
      ]
     },
     {
      "cell_type": "code",
      "execution_count": 22,
      "metadata": {},
      "outputs": [
       {
        "data": {
         "text/plain": [
          "['  server: cloudflare\\r\\n  CF-Cache-Status: DYNAMIC\\r\\nReport-To  cf-ray: 80909ac5880ee6c2-HKG\\r\\n\\r\\nHTTP/1.1 200 OK\\r\\nDate',\n",
          " '  Server: cloudflare\\r\\n  CF-Cache-Status: DYNAMIC\\r\\nReport-To  CF-RAY: 80909ac88a10044a-HKG\\r\\nalt-svc',\n",
          " '  Server: cloudflare\\r\\n  CF-Cache-Status: DYNAMIC\\r\\nReport-To  CF-RAY: 80909ac8bd9d1077-HKG\\r\\nalt-svc  x-served-by: cache-hkg17926-HKG\\r\\naccept-ranges',\n",
          " '  Server: cloudflare\\r\\n  CF-Cache-Status: DYNAMIC\\r\\nReport-To  CF-RAY: 80909ac9e9f0b46d-HKG\\r\\nalt-svc  x-fb-debug: 2M3U/ABo8Q9CqE9eU505e9qa0jRO50RS5NwK83UzwFFgjhAatxRAvhrmpw6cFyp8yvY09WkTfly06/Xx0m/Scg==\\r\\ndate',\n",
          " '  Server: cloudflare\\r\\n  CF-Cache-Status: DYNAMIC\\r\\nReport-To  CF-RAY: 80909aca4aca8b3f-HKG\\r\\nalt-svc',\n",
          " '  Server: cloudflare\\r\\n  CF-Cache-Status: DYNAMIC\\r\\nReport-To  CF-RAY: 80909acb884e0495-HKG\\r\\nalt-svc',\n",
          " '  Server: cloudflare\\r\\n  CF-Cache-Status: DYNAMIC\\r\\nReport-To  CF-RAY: 80909acc0e5b1082-HKG\\r\\nalt-svc',\n",
          " '  Server: cloudflare\\r\\n  CF-Cache-Status: DYNAMIC\\r\\nReport-To  CF-RAY: 80909acc4ae804cc-HKG\\r\\nalt-svc',\n",
          " '  Server: cloudflare\\r\\n  CF-Cache-Status: DYNAMIC\\r\\nReport-To  CF-RAY: 80909acfbf721fb2-HKG\\r\\nalt-svc',\n",
          " '  Server: cloudflare\\r\\n  CF-Cache-Status: DYNAMIC\\r\\nReport-To  CF-RAY: 80909acfef2010a3-HKG\\r\\nalt-svc',\n",
          " '  Server: cloudflare\\r\\n  CF-Cache-Status: DYNAMIC\\r\\nReport-To  CF-RAY: 80909ad1de3120e7-HKG\\r\\nalt-svc',\n",
          " '  Server: cloudflare\\r\\n  CF-Cache-Status: DYNAMIC\\r\\nReport-To  CF-RAY: 80909ad5fdfb07aa-HKG\\r\\nalt-svc',\n",
          " '  Server: cloudflare\\r\\n  CF-Cache-Status: DYNAMIC\\r\\nReport-To  CF-RAY: 80909ad65d7b2105-HKG\\r\\nalt-svc',\n",
          " '  Server: cloudflare\\r\\n  CF-Cache-Status: DYNAMIC\\r\\nReport-To  CF-RAY: 80909ad759f907b1-HKG\\r\\nalt-svc',\n",
          " '  Server: cloudflare\\r\\n  CF-Cache-Status: DYNAMIC\\r\\nReport-To  CF-RAY: 80909ad7be750468-HKG\\r\\nalt-svc',\n",
          " '  Server: cloudflare\\r\\n  CF-Cache-Status: DYNAMIC\\r\\nReport-To  CF-RAY: 80909ad84d1a10a2-HKG\\r\\nalt-svc',\n",
          " '  Server: cloudflare\\r\\n  CF-Cache-Status: DYNAMIC\\r\\nReport-To  CF-RAY: 80909ad8eaea1066-HKG\\r\\nalt-svc',\n",
          " '  Server: cloudflare\\r\\n  CF-Cache-Status: DYNAMIC\\r\\nReport-To  CF-RAY: 80909ad93d1cb430-HKG\\r\\nalt-svc',\n",
          " '  Server: cloudflare\\r\\n  CF-Cache-Status: DYNAMIC\\r\\nReport-To  CF-RAY: 80909adcee2a0462-HKG\\r\\nalt-svc',\n",
          " '  Server: cloudflare\\r\\n  CF-Cache-Status: DYNAMIC\\r\\nReport-To  CF-RAY: 80909adb6dd504ef-HKG\\r\\nalt-svc',\n",
          " '  Server: cloudflare\\r\\n  CF-Cache-Status: DYNAMIC\\r\\nReport-To  CF-RAY: 80909adc5dcc20e9-HKG\\r\\nalt-svc',\n",
          " '  Server: cloudflare\\r\\n  CF-Cache-Status: DYNAMIC\\r\\nReport-To  CF-RAY: 80909addd88404d4-HKG\\r\\nalt-svc',\n",
          " '  Server: cloudflare\\r\\n  CF-Cache-Status: DYNAMIC\\r\\nReport-To  CF-RAY: 80909ade4fa70f2c-HKG\\r\\nalt-svc']"
         ]
        },
        "execution_count": 22,
        "metadata": {},
        "output_type": "execute_result"
       }
      ],
      "source": [
       "wwwpd[wwwpd['cdn'].str.len()>1].loc[\"www.amaporn.com\"][\"http_header\"]"
      ]
     },
     {
      "cell_type": "code",
      "execution_count": 20,
      "metadata": {},
      "outputs": [],
      "source": [
       "import json\n",
       "import requests"
      ]
     },
     {
      "cell_type": "code",
      "execution_count": 54,
      "metadata": {},
      "outputs": [],
      "source": [
       "def validate(domain, cdn_list):\n",
       "    cdn_ip_dict = json.load(open(\"../resource/cdn_ip.json\", 'r'))\n",
       "    print(cdn_ip_dict)\n",
       "    for cdn in cdn_list:\n",
       "        url = f\"http://{cdn_ip_dict[cdn]}\"\n",
       "        print(url)\n",
       "        headers = {\"Host\": domain}\n",
       "        re = requests.get(url, headers=headers, allow_redirects=False)\n",
       "        print(re.headers)\n",
       "        print(re.status_code)\n",
       "\n",
       "        if re.status_code >= 300 and re1.status_code >= 300:\n",
       "            return False\n",
       "    return True"
      ]
     },
     {
      "cell_type": "code",
      "execution_count": 65,
      "metadata": {},
      "outputs": [],
      "source": [
       "def validate(domain, cdn_list):\n",
       "    cdn_ip_dict = json.load(open(\"../resource/cdn_ip.json\", 'r'))\n",
       "    print(cdn_ip_dict)\n",
       "    for cdn in cdn_list:\n",
       "        http_code1 = subprocess.check_output(f\"curl -m 3 -s -IL {cdn_ip_dict[cdn]} -H 'Host:{domain}' -k -o /dev/null -w %{'{http_code}'}\", shell=True).decode('utf-8', \"ignore\")\n",
       "        print(http_code1)\n",
       "        if int(http_code1[0]) >= 3:\n",
       "            return False\n",
       "    return True"
      ]
     },
     {
      "cell_type": "code",
      "execution_count": 66,
      "metadata": {},
      "outputs": [
       {
        "name": "stdout",
        "output_type": "stream",
        "text": [
         "{'cloudflare': '104.16.123.96', 'akamai': '23.59.208.32', 'fastly': '151.101.193.5', 'imperva': '45.60.73.225', 'edgio': '64.12.0.35', 'alibaba': '47.246.23.243', 'facebook': '157.240.7.8'}\n",
         "200\n",
         "200\n"
        ]
       },
       {
        "data": {
         "text/plain": [
          "True"
         ]
        },
        "execution_count": 66,
        "metadata": {},
        "output_type": "execute_result"
       }
      ],
      "source": [
       "validate(\"www.apple.com\",[\"facebook\",\"cloudflare\"])"
      ]
     },
     {
      "cell_type": "code",
      "execution_count": null,
      "metadata": {},
      "outputs": [],
      "source": []
     }
    ],
    "metadata": {
     "kernelspec": {
      "display_name": "mzhou-python3",
      "language": "python",
      "name": "mzhou-python3"
     },
     "language_info": {
      "codemirror_mode": {
       "name": "ipython",
       "version": 3
      },
      "file_extension": ".py",
      "mimetype": "text/x-python",
      "name": "python",
      "nbconvert_exporter": "python",
      "pygments_lexer": "ipython3",
      "version": "3.11.5"
     }
    },
    "nbformat": 4,
    "nbformat_minor": 4
   }
   